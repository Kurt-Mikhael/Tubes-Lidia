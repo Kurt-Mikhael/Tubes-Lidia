{
 "cells": [
  {
   "cell_type": "code",
   "execution_count": 1,
   "id": "5367f503-fe74-46b4-9d7b-76daf88d48e1",
   "metadata": {},
   "outputs": [],
   "source": [
    "import pandas as pd\n",
    "import matplotlib.pyplot as plt\n",
    "import numpy as np\n",
    "import matplotlib.dates as mdates\n",
    "import seaborn as sns\n",
    "from scipy.stats import spearmanr"
   ]
  },
  {
   "cell_type": "code",
   "execution_count": 3,
   "id": "aa809fd9-b333-4d53-86b1-2d814caebb21",
   "metadata": {},
   "outputs": [
    {
     "name": "stderr",
     "output_type": "stream",
     "text": [
      "<>:4: SyntaxWarning: invalid escape sequence '\\$'\n",
      "<>:5: SyntaxWarning: invalid escape sequence '\\$'\n",
      "<>:4: SyntaxWarning: invalid escape sequence '\\$'\n",
      "<>:5: SyntaxWarning: invalid escape sequence '\\$'\n",
      "C:\\Users\\Asus\\AppData\\Local\\Temp\\ipykernel_43692\\589578135.py:4: SyntaxWarning: invalid escape sequence '\\$'\n",
      "  df['Open'] = df['Open'].replace('[\\$,]', '', regex=True).replace(',', '', regex=True).astype(float)\n",
      "C:\\Users\\Asus\\AppData\\Local\\Temp\\ipykernel_43692\\589578135.py:5: SyntaxWarning: invalid escape sequence '\\$'\n",
      "  df['Close'] = df['Close'].replace('[\\$,]', '', regex=True).replace(',', '', regex=True).astype(float)\n"
     ]
    }
   ],
   "source": [
    "df = pd.read_csv(\"data/Merged_Bitcoin_FearAndGreed.csv\")\n",
    "df['Date'] = pd.to_datetime(df['Date'])\n",
    "\n",
    "df['Open'] = df['Open'].replace('[\\$,]', '', regex=True).replace(',', '', regex=True).astype(float)\n",
    "df['Close'] = df['Close'].replace('[\\$,]', '', regex=True).replace(',', '', regex=True).astype(float)\n",
    "\n",
    "\n",
    "df = df[(df['Date'] >= '2018-01-01') & (df['Date'] <= '2023-12-31')]\n",
    "\n",
    "df = df.sort_values('Date')\n",
    "\n"
   ]
  },
  {
   "cell_type": "code",
   "execution_count": 4,
   "id": "b54a07dd-db71-4530-957a-5a3c349333e7",
   "metadata": {},
   "outputs": [
    {
     "data": {
      "text/plain": [
       "1884    False\n",
       "1883    False\n",
       "1882    False\n",
       "1881    False\n",
       "1880    False\n",
       "        ...  \n",
       "4       False\n",
       "3       False\n",
       "2       False\n",
       "1       False\n",
       "0       False\n",
       "Length: 1885, dtype: bool"
      ]
     },
     "execution_count": 4,
     "metadata": {},
     "output_type": "execute_result"
    }
   ],
   "source": [
    "df.duplicated()"
   ]
  },
  {
   "cell_type": "code",
   "execution_count": 5,
   "id": "ea6684b1-62a8-4d37-96de-fdc72b7a22bc",
   "metadata": {},
   "outputs": [
    {
     "name": "stdout",
     "output_type": "stream",
     "text": [
      "<class 'pandas.core.frame.DataFrame'>\n",
      "Index: 1885 entries, 1884 to 0\n",
      "Data columns (total 11 columns):\n",
      " #   Column                 Non-Null Count  Dtype         \n",
      "---  ------                 --------------  -----         \n",
      " 0   Date                   1885 non-null   datetime64[ns]\n",
      " 1   Close                  1885 non-null   float64       \n",
      " 2   Open                   1885 non-null   float64       \n",
      " 3   High                   1885 non-null   float64       \n",
      " 4   Low                    1885 non-null   float64       \n",
      " 5   Change                 1885 non-null   float64       \n",
      " 6   Change Classification  1885 non-null   object        \n",
      " 7   Value                  1885 non-null   float64       \n",
      " 8   Value_Classification   1885 non-null   object        \n",
      " 9   BTC_Closing            1885 non-null   float64       \n",
      " 10  BTC_Volume             1885 non-null   int64         \n",
      "dtypes: datetime64[ns](1), float64(7), int64(1), object(2)\n",
      "memory usage: 176.7+ KB\n"
     ]
    }
   ],
   "source": [
    "df.info()"
   ]
  },
  {
   "cell_type": "code",
   "execution_count": 6,
   "id": "aa0dc0ec-101f-439d-9501-83e682c811ed",
   "metadata": {},
   "outputs": [
    {
     "name": "stdout",
     "output_type": "stream",
     "text": [
      "Categorical columns : ['Change Classification', 'Value_Classification']\n",
      "Numerical columns : ['Date', 'Close', 'Open', 'High', 'Low', 'Change', 'Value', 'BTC_Closing', 'BTC_Volume']\n"
     ]
    }
   ],
   "source": [
    "# Categorical columns\n",
    "cat_col = [col for col in df.columns if df[col].dtype == 'object']\n",
    "print('Categorical columns :',cat_col)\n",
    "# Numerical columns\n",
    "num_col = [col for col in df.columns if df[col].dtype != 'object']\n",
    "print('Numerical columns :',num_col)"
   ]
  },
  {
   "cell_type": "code",
   "execution_count": 8,
   "id": "c68e697a-4514-4269-9ba5-fb7f89e8d3ba",
   "metadata": {},
   "outputs": [
    {
     "data": {
      "text/plain": [
       "Change Classification    3\n",
       "Value_Classification     5\n",
       "dtype: int64"
      ]
     },
     "execution_count": 8,
     "metadata": {},
     "output_type": "execute_result"
    }
   ],
   "source": [
    "df[cat_col].nunique()"
   ]
  },
  {
   "cell_type": "code",
   "execution_count": 9,
   "id": "7d661778-2ba5-40b5-943b-73e0554d0c96",
   "metadata": {},
   "outputs": [
    {
     "data": {
      "text/html": [
       "<div>\n",
       "<style scoped>\n",
       "    .dataframe tbody tr th:only-of-type {\n",
       "        vertical-align: middle;\n",
       "    }\n",
       "\n",
       "    .dataframe tbody tr th {\n",
       "        vertical-align: top;\n",
       "    }\n",
       "\n",
       "    .dataframe thead th {\n",
       "        text-align: right;\n",
       "    }\n",
       "</style>\n",
       "<table border=\"1\" class=\"dataframe\">\n",
       "  <thead>\n",
       "    <tr style=\"text-align: right;\">\n",
       "      <th></th>\n",
       "      <th>Date</th>\n",
       "      <th>Close</th>\n",
       "      <th>Open</th>\n",
       "      <th>High</th>\n",
       "      <th>Low</th>\n",
       "      <th>Change</th>\n",
       "      <th>Change Classification</th>\n",
       "      <th>Value</th>\n",
       "      <th>Value_Classification</th>\n",
       "      <th>BTC_Closing</th>\n",
       "      <th>BTC_Volume</th>\n",
       "    </tr>\n",
       "  </thead>\n",
       "  <tbody>\n",
       "    <tr>\n",
       "      <th>1884</th>\n",
       "      <td>2018-02-01</td>\n",
       "      <td>9181.1</td>\n",
       "      <td>10266.2</td>\n",
       "      <td>10303.0</td>\n",
       "      <td>8789.2</td>\n",
       "      <td>-0.1056</td>\n",
       "      <td>Down</td>\n",
       "      <td>30.0</td>\n",
       "      <td>Fear</td>\n",
       "      <td>9170.540039</td>\n",
       "      <td>9959400448</td>\n",
       "    </tr>\n",
       "    <tr>\n",
       "      <th>1883</th>\n",
       "      <td>2018-02-02</td>\n",
       "      <td>8893.2</td>\n",
       "      <td>9179.8</td>\n",
       "      <td>9201.4</td>\n",
       "      <td>7915.8</td>\n",
       "      <td>-0.0314</td>\n",
       "      <td>Down</td>\n",
       "      <td>15.0</td>\n",
       "      <td>Extreme Fear</td>\n",
       "      <td>8830.750000</td>\n",
       "      <td>12726899712</td>\n",
       "    </tr>\n",
       "    <tr>\n",
       "      <th>1882</th>\n",
       "      <td>2018-02-03</td>\n",
       "      <td>9241.1</td>\n",
       "      <td>8894.4</td>\n",
       "      <td>9506.9</td>\n",
       "      <td>8249.3</td>\n",
       "      <td>0.0391</td>\n",
       "      <td>Up</td>\n",
       "      <td>40.0</td>\n",
       "      <td>Fear</td>\n",
       "      <td>9174.910156</td>\n",
       "      <td>7263790080</td>\n",
       "    </tr>\n",
       "    <tr>\n",
       "      <th>1881</th>\n",
       "      <td>2018-02-04</td>\n",
       "      <td>8222.2</td>\n",
       "      <td>9241.5</td>\n",
       "      <td>9382.1</td>\n",
       "      <td>7932.1</td>\n",
       "      <td>-0.1103</td>\n",
       "      <td>Down</td>\n",
       "      <td>24.0</td>\n",
       "      <td>Extreme Fear</td>\n",
       "      <td>8277.009766</td>\n",
       "      <td>7073549824</td>\n",
       "    </tr>\n",
       "    <tr>\n",
       "      <th>1880</th>\n",
       "      <td>2018-02-05</td>\n",
       "      <td>6938.5</td>\n",
       "      <td>8220.8</td>\n",
       "      <td>8383.2</td>\n",
       "      <td>6651.9</td>\n",
       "      <td>-0.1561</td>\n",
       "      <td>Down</td>\n",
       "      <td>11.0</td>\n",
       "      <td>Extreme Fear</td>\n",
       "      <td>6955.270020</td>\n",
       "      <td>9285289984</td>\n",
       "    </tr>\n",
       "  </tbody>\n",
       "</table>\n",
       "</div>"
      ],
      "text/plain": [
       "           Date   Close     Open     High     Low  Change  \\\n",
       "1884 2018-02-01  9181.1  10266.2  10303.0  8789.2 -0.1056   \n",
       "1883 2018-02-02  8893.2   9179.8   9201.4  7915.8 -0.0314   \n",
       "1882 2018-02-03  9241.1   8894.4   9506.9  8249.3  0.0391   \n",
       "1881 2018-02-04  8222.2   9241.5   9382.1  7932.1 -0.1103   \n",
       "1880 2018-02-05  6938.5   8220.8   8383.2  6651.9 -0.1561   \n",
       "\n",
       "     Change Classification  Value Value_Classification  BTC_Closing  \\\n",
       "1884                  Down   30.0                 Fear  9170.540039   \n",
       "1883                  Down   15.0         Extreme Fear  8830.750000   \n",
       "1882                    Up   40.0                 Fear  9174.910156   \n",
       "1881                  Down   24.0         Extreme Fear  8277.009766   \n",
       "1880                  Down   11.0         Extreme Fear  6955.270020   \n",
       "\n",
       "       BTC_Volume  \n",
       "1884   9959400448  \n",
       "1883  12726899712  \n",
       "1882   7263790080  \n",
       "1881   7073549824  \n",
       "1880   9285289984  "
      ]
     },
     "execution_count": 9,
     "metadata": {},
     "output_type": "execute_result"
    }
   ],
   "source": [
    "df.head()"
   ]
  },
  {
   "cell_type": "code",
   "execution_count": 10,
   "id": "e8431288-8e05-473a-8580-e5ba0e85182b",
   "metadata": {},
   "outputs": [
    {
     "data": {
      "text/html": [
       "<div>\n",
       "<style scoped>\n",
       "    .dataframe tbody tr th:only-of-type {\n",
       "        vertical-align: middle;\n",
       "    }\n",
       "\n",
       "    .dataframe tbody tr th {\n",
       "        vertical-align: top;\n",
       "    }\n",
       "\n",
       "    .dataframe thead th {\n",
       "        text-align: right;\n",
       "    }\n",
       "</style>\n",
       "<table border=\"1\" class=\"dataframe\">\n",
       "  <thead>\n",
       "    <tr style=\"text-align: right;\">\n",
       "      <th></th>\n",
       "      <th>Date</th>\n",
       "      <th>Close</th>\n",
       "      <th>Value_Classification</th>\n",
       "      <th>BTC_Closing</th>\n",
       "    </tr>\n",
       "  </thead>\n",
       "  <tbody>\n",
       "    <tr>\n",
       "      <th>1884</th>\n",
       "      <td>2018-02-01</td>\n",
       "      <td>9181.1</td>\n",
       "      <td>Fear</td>\n",
       "      <td>9170.540039</td>\n",
       "    </tr>\n",
       "    <tr>\n",
       "      <th>1883</th>\n",
       "      <td>2018-02-02</td>\n",
       "      <td>8893.2</td>\n",
       "      <td>Extreme Fear</td>\n",
       "      <td>8830.750000</td>\n",
       "    </tr>\n",
       "    <tr>\n",
       "      <th>1882</th>\n",
       "      <td>2018-02-03</td>\n",
       "      <td>9241.1</td>\n",
       "      <td>Fear</td>\n",
       "      <td>9174.910156</td>\n",
       "    </tr>\n",
       "    <tr>\n",
       "      <th>1881</th>\n",
       "      <td>2018-02-04</td>\n",
       "      <td>8222.2</td>\n",
       "      <td>Extreme Fear</td>\n",
       "      <td>8277.009766</td>\n",
       "    </tr>\n",
       "    <tr>\n",
       "      <th>1880</th>\n",
       "      <td>2018-02-05</td>\n",
       "      <td>6938.5</td>\n",
       "      <td>Extreme Fear</td>\n",
       "      <td>6955.270020</td>\n",
       "    </tr>\n",
       "  </tbody>\n",
       "</table>\n",
       "</div>"
      ],
      "text/plain": [
       "           Date   Close Value_Classification  BTC_Closing\n",
       "1884 2018-02-01  9181.1                 Fear  9170.540039\n",
       "1883 2018-02-02  8893.2         Extreme Fear  8830.750000\n",
       "1882 2018-02-03  9241.1                 Fear  9174.910156\n",
       "1881 2018-02-04  8222.2         Extreme Fear  8277.009766\n",
       "1880 2018-02-05  6938.5         Extreme Fear  6955.270020"
      ]
     },
     "execution_count": 10,
     "metadata": {},
     "output_type": "execute_result"
    }
   ],
   "source": [
    "# Remove insignificant columns \n",
    "\n",
    "df1 = df.drop(columns=['Change Classification', 'Open', 'High', 'Low', 'Change', 'BTC_Volume', 'Value'])\n",
    "df1.head()"
   ]
  },
  {
   "cell_type": "code",
   "execution_count": 11,
   "id": "a023ad85-7cdd-43fe-9484-3c3b0377e07a",
   "metadata": {},
   "outputs": [
    {
     "name": "stdout",
     "output_type": "stream",
     "text": [
      "<class 'pandas.core.frame.DataFrame'>\n",
      "Index: 1885 entries, 1884 to 0\n",
      "Data columns (total 4 columns):\n",
      " #   Column                Non-Null Count  Dtype         \n",
      "---  ------                --------------  -----         \n",
      " 0   Date                  1885 non-null   datetime64[ns]\n",
      " 1   Close                 1885 non-null   float64       \n",
      " 2   Value_Classification  1885 non-null   object        \n",
      " 3   BTC_Closing           1885 non-null   float64       \n",
      "dtypes: datetime64[ns](1), float64(2), object(1)\n",
      "memory usage: 73.6+ KB\n"
     ]
    }
   ],
   "source": [
    "df1.info()"
   ]
  },
  {
   "cell_type": "code",
   "execution_count": 12,
   "id": "fe8ebd45-4f5b-4f7e-9d13-62e7cf6a21c4",
   "metadata": {},
   "outputs": [
    {
     "data": {
      "text/plain": [
       "1884    False\n",
       "1883    False\n",
       "1882    False\n",
       "1881    False\n",
       "1880    False\n",
       "        ...  \n",
       "4       False\n",
       "3       False\n",
       "2       False\n",
       "1       False\n",
       "0       False\n",
       "Length: 1885, dtype: bool"
      ]
     },
     "execution_count": 12,
     "metadata": {},
     "output_type": "execute_result"
    }
   ],
   "source": [
    "df1.duplicated()"
   ]
  },
  {
   "cell_type": "code",
   "execution_count": 13,
   "id": "df1f3730-5e57-48cc-aca3-b98d60d4f59b",
   "metadata": {},
   "outputs": [
    {
     "data": {
      "image/png": "[encoded data removed]",
      "text/plain": [
       "<Figure size 640x480 with 1 Axes>"
      ]
     },
     "metadata": {},
     "output_type": "display_data"
    }
   ],
   "source": [
    "import matplotlib.pyplot as plt\n",
    "\n",
    "plt.boxplot(df1['Close'], vert=False)\n",
    "plt.ylabel('Variable')\n",
    "plt.xlabel('BTC Price')\n",
    "plt.title('Box Plot')\n",
    "plt.show()"
   ]
  },
  {
   "cell_type": "code",
   "execution_count": 14,
   "id": "18f3db08-fb4f-4294-906d-dcb18812b08c",
   "metadata": {},
   "outputs": [
    {
     "name": "stdout",
     "output_type": "stream",
     "text": [
      "Interquartile range:  24885.699999999997\n",
      "Lower bound:  0\n",
      "Upper bound  70056.65\n"
     ]
    }
   ],
   "source": [
    "Q1 = df1['Close'].quantile(0.25)\n",
    "Q3 = df1['Close'].quantile(0.75)\n",
    "IQR = Q3 - Q1\n",
    "\n",
    "print('Interquartile range: ', IQR)\n",
    "\n",
    "#The lower bound is negative, hence we use 0 \n",
    "lower_bound = max(0, Q1 - 1.5 * IQR)\n",
    "upper_bound = Q3 + 1.5 * IQR\n",
    "\n",
    "print('Lower bound: ', lower_bound) \n",
    "print('Upper bound ', upper_bound)"
   ]
  },
  {
   "cell_type": "code",
   "execution_count": 15,
   "id": "55fd76fd-2f67-460c-8e49-5d1ece0e37da",
   "metadata": {},
   "outputs": [
    {
     "name": "stdout",
     "output_type": "stream",
     "text": [
      "Max value:  67527.9\n"
     ]
    }
   ],
   "source": [
    "max_value = df1['Close'].max()\n",
    "print('Max value: ', max_value)"
   ]
  },
  {
   "cell_type": "code",
   "execution_count": 67,
   "id": "93215e38-8af0-4c60-8173-1cc86270d2e6",
   "metadata": {},
   "outputs": [
    {
     "data": {
      "text/html": [
       "<div>\n",
       "<style scoped>\n",
       "    .dataframe tbody tr th:only-of-type {\n",
       "        vertical-align: middle;\n",
       "    }\n",
       "\n",
       "    .dataframe tbody tr th {\n",
       "        vertical-align: top;\n",
       "    }\n",
       "\n",
       "    .dataframe thead th {\n",
       "        text-align: right;\n",
       "    }\n",
       "</style>\n",
       "<table border=\"1\" class=\"dataframe\">\n",
       "  <thead>\n",
       "    <tr style=\"text-align: right;\">\n",
       "      <th></th>\n",
       "      <th>Date</th>\n",
       "      <th>BTC_Closing</th>\n",
       "      <th>Sentiment</th>\n",
       "    </tr>\n",
       "  </thead>\n",
       "  <tbody>\n",
       "    <tr>\n",
       "      <th>454</th>\n",
       "      <td>2022-01-01</td>\n",
       "      <td>47686.812500</td>\n",
       "      <td>1</td>\n",
       "    </tr>\n",
       "    <tr>\n",
       "      <th>453</th>\n",
       "      <td>2022-01-02</td>\n",
       "      <td>47345.218750</td>\n",
       "      <td>2</td>\n",
       "    </tr>\n",
       "    <tr>\n",
       "      <th>452</th>\n",
       "      <td>2022-01-03</td>\n",
       "      <td>46458.117188</td>\n",
       "      <td>2</td>\n",
       "    </tr>\n",
       "    <tr>\n",
       "      <th>451</th>\n",
       "      <td>2022-01-04</td>\n",
       "      <td>45897.574219</td>\n",
       "      <td>1</td>\n",
       "    </tr>\n",
       "    <tr>\n",
       "      <th>450</th>\n",
       "      <td>2022-01-05</td>\n",
       "      <td>43569.003906</td>\n",
       "      <td>1</td>\n",
       "    </tr>\n",
       "  </tbody>\n",
       "</table>\n",
       "</div>"
      ],
      "text/plain": [
       "          Date   BTC_Closing  Sentiment\n",
       "454 2022-01-01  47686.812500          1\n",
       "453 2022-01-02  47345.218750          2\n",
       "452 2022-01-03  46458.117188          2\n",
       "451 2022-01-04  45897.574219          1\n",
       "450 2022-01-05  43569.003906          1"
      ]
     },
     "execution_count": 67,
     "metadata": {},
     "output_type": "execute_result"
    }
   ],
   "source": [
    "df2.head()"
   ]
  },
  {
   "cell_type": "code",
   "execution_count": 68,
   "id": "18fc2291-0f2a-485e-9856-43be74c040e5",
   "metadata": {},
   "outputs": [
    {
     "data": {
      "image/png": "[encoded data removed]",
      "text/plain": [
       "<Figure size 640x480 with 1 Axes>"
      ]
     },
     "metadata": {},
     "output_type": "display_data"
    }
   ],
   "source": [
    "import matplotlib.pyplot as plt\n",
    "\n",
    "plt.boxplot(df2['BTC_Closing'], vert=False)\n",
    "plt.ylabel('Variable')\n",
    "plt.xlabel('BTC Price')\n",
    "plt.title('Box Plot')\n",
    "plt.show()"
   ]
  },
  {
   "cell_type": "code",
   "execution_count": 19,
   "id": "46252b06-87e6-4f3e-9b89-ece7e8f26980",
   "metadata": {},
   "outputs": [
    {
     "name": "stdout",
     "output_type": "stream",
     "text": [
      "Interquartile range:  24885.699999999997\n",
      "Lower bound:  0\n",
      "Upper bound  70056.65\n"
     ]
    }
   ],
   "source": [
    "Q1 = df1['Close'].quantile(0.25)\n",
    "Q3 = df1['Close'].quantile(0.75)\n",
    "IQR = Q3 - Q1\n",
    "\n",
    "print('Interquartile range: ', IQR)\n",
    "\n",
    "#The lower bound is negative, hence we use 0 \n",
    "lower_bound = max(0, Q1 - 1.5 * IQR)\n",
    "upper_bound = Q3 + 1.5 * IQR\n",
    "\n",
    "print('Lower bound: ', lower_bound) \n",
    "print('Upper bound ', upper_bound)"
   ]
  },
  {
   "cell_type": "code",
   "execution_count": 26,
   "id": "035f0638-7d1f-4f7f-985a-496e80fe537b",
   "metadata": {},
   "outputs": [
    {
     "name": "stdout",
     "output_type": "stream",
     "text": [
      "         Date    Close     Open     High      Low  Change  \\\n",
      "89 2023-01-01  16618.4  16537.5  16621.9  16499.7  0.0049   \n",
      "88 2023-01-02  16674.3  16618.4  16766.9  16551.0  0.0034   \n",
      "87 2023-01-03  16674.2  16673.1  16773.2  16607.2 -0.0000   \n",
      "86 2023-01-04  16852.1  16674.2  16976.5  16656.5  0.0107   \n",
      "85 2023-01-05  16829.8  16852.2  16877.9  16772.3 -0.0013   \n",
      "\n",
      "   Change Classification  Value Value_Classification   BTC_Closing  \\\n",
      "89                Stable   26.0                 Fear  16625.080078   \n",
      "88                Stable   27.0                 Fear  16688.470703   \n",
      "87                Stable   26.0                 Fear  16679.857422   \n",
      "86                    Up   29.0                 Fear  16863.238281   \n",
      "85                Stable   29.0                 Fear  16836.736328   \n",
      "\n",
      "     BTC_Volume  \n",
      "89   9244361700  \n",
      "88  12097775227  \n",
      "87  13903079207  \n",
      "86  18421743322  \n",
      "85  13692758566  \n"
     ]
    }
   ],
   "source": [
    "#Memotong data untuk tahun 2023\n",
    "df_2023 = df[df['Date'].dt.year == 2023]\n",
    "print(df_2023.head())"
   ]
  },
  {
   "cell_type": "code",
   "execution_count": 28,
   "id": "b62be028",
   "metadata": {},
   "outputs": [],
   "source": [
    "#Buat file CSV untuk data 2023\n",
    "df_2023.to_csv('data/BTC_2023.csv', index=False)\n"
   ]
  }
 ],
 "metadata": {
  "kernelspec": {
   "display_name": "Python 3",
   "language": "python",
   "name": "python3"
  },
  "language_info": {
   "codemirror_mode": {
    "name": "ipython",
    "version": 3
   },
   "file_extension": ".py",
   "mimetype": "text/x-python",
   "name": "python",
   "nbconvert_exporter": "python",
   "pygments_lexer": "ipython3",
   "version": "3.13.1"
  }
 },
 "nbformat": 4,
 "nbformat_minor": 5
}
